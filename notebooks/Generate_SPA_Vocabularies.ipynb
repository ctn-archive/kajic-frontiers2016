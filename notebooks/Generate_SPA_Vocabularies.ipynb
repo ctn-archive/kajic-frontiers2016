{
 "cells": [
  {
   "cell_type": "code",
   "execution_count": 1,
   "metadata": {
    "collapsed": true
   },
   "outputs": [],
   "source": [
    "from __future__ import absolute_import, division\n",
    "\n",
    "import nengo\n",
    "import seaborn as sns\n",
    "import os\n",
    "import numpy as np\n",
    "import re\n",
    "\n",
    "import pickle\n",
    "from helper import *\n",
    "from sparat.model.model import sanitize\n",
    "\n",
    "from nengo import spa\n",
    "from sparat import load_assoc_mat\n",
    "\n",
    "import warnings\n",
    "\n",
    "%matplotlib inline\n",
    "%config InlineBackend.figure_format = 'svg'"
   ]
  },
  {
   "cell_type": "code",
   "execution_count": 2,
   "metadata": {
    "collapsed": false
   },
   "outputs": [],
   "source": [
    "base_dir = os.curdir\n",
    "assoc_dir = os.path.join(base_dir, os.pardir, 'data', 'associationmatrices')\n",
    "_, i2w, w2i = load_assoc_mat(assoc_dir, 'freeassoc_symmetric')\n",
    "\n",
    "save_dir = os.path.join(base_dir, os.pardir, 'data', 'spa_vocabularies')"
   ]
  },
  {
   "cell_type": "code",
   "execution_count": 4,
   "metadata": {
    "collapsed": false
   },
   "outputs": [
    {
     "name": "stdout",
     "output_type": "stream",
     "text": [
      "Saved: ./../data/spa_vocabularies/vocab_2048d_6s.pkl\n",
      "Saved: ./../data/spa_vocabularies/vocab_2048d_7s.pkl\n",
      "Saved: ./../data/spa_vocabularies/vocab_2048d_8s.pkl\n",
      "Saved: ./../data/spa_vocabularies/vocab_2048d_9s.pkl\n",
      "Saved: ./../data/spa_vocabularies/vocab_2048d_10s.pkl\n"
     ]
    }
   ],
   "source": [
    "d = 2048\n",
    "seeds = np.arange(6, 11)\n",
    "\n",
    "for seed in seeds:\n",
    "    fname = 'vocab_{0}d_{1}s.pkl'.format(d, seed)\n",
    "    voc = spa.Vocabulary(d, rng=np.random.RandomState(seed))\n",
    "    \n",
    "    for w in i2w:\n",
    "        with warnings.catch_warnings():\n",
    "            warnings.simplefilter(\"ignore\")\n",
    "            voc.parse(sanitize(w))\n",
    "    save_path = os.path.join(save_dir, fname)\n",
    "    pickle.dump(voc, file(save_path, 'w'))\n",
    "    print 'Saved:', save_path"
   ]
  },
  {
   "cell_type": "code",
   "execution_count": null,
   "metadata": {
    "collapsed": true
   },
   "outputs": [],
   "source": []
  }
 ],
 "metadata": {
  "kernelspec": {
   "display_name": "Python 2",
   "language": "python",
   "name": "python2"
  },
  "language_info": {
   "codemirror_mode": {
    "name": "ipython",
    "version": 2
   },
   "file_extension": ".py",
   "mimetype": "text/x-python",
   "name": "python",
   "nbconvert_exporter": "python",
   "pygments_lexer": "ipython2",
   "version": "2.7.9"
  }
 },
 "nbformat": 4,
 "nbformat_minor": 0
}
