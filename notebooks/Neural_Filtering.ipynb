{
 "cells": [
  {
   "cell_type": "code",
   "execution_count": 1,
   "metadata": {
    "collapsed": true
   },
   "outputs": [],
   "source": [
    "from __future__ import division\n",
    "\n",
    "import matplotlib.pyplot as plt\n",
    "import nengo\n",
    "from nengo import spa\n",
    "import numpy as np\n",
    "import pandas as pd\n",
    "import seaborn as sns"
   ]
  },
  {
   "cell_type": "code",
   "execution_count": 2,
   "metadata": {
    "collapsed": false
   },
   "outputs": [
    {
     "data": {
      "application/javascript": [
       "\n",
       "    require([\"widgets/js/widget\", \"widgets/js/manager\"],\n",
       "        function(widget, manager) {\n",
       "      if (typeof widget.DOMWidgetView == 'undefined') {\n",
       "        widget = IPython;\n",
       "      }\n",
       "      if (typeof manager.WidgetManager == 'undefined') {\n",
       "        manager = IPython;\n",
       "      }\n",
       "\n",
       "      var NengoProgressBar = widget.DOMWidgetView.extend({\n",
       "        render: function() {\n",
       "          // Work-around for messed up CSS in IPython 4\n",
       "          $('.widget-subarea').css({flex: '2 1 0%'});\n",
       "          // $el is the DOM of the widget\n",
       "          this.$el.css({width: '100%', marginBottom: '0.5em'});\n",
       "          this.$el.html([\n",
       "            '<div style=\"',\n",
       "                'width: 100%;',\n",
       "                'border: 1px solid #cfcfcf;',\n",
       "                'border-radius: 4px;',\n",
       "                'text-align: center;',\n",
       "                'position: relative;\">',\n",
       "              '<div class=\"pb-text\" style=\"',\n",
       "                  'position: absolute;',\n",
       "                  'width: 100%;\">',\n",
       "                '0%',\n",
       "              '</div>',\n",
       "              '<div class=\"pb-bar\" style=\"',\n",
       "                  'background-color: #bdd2e6;',\n",
       "                  'width: 0%;',\n",
       "                  'transition: width 0.1s linear;\">',\n",
       "                '&nbsp;',\n",
       "              '</div>',\n",
       "            '</div>'].join(''));\n",
       "        },\n",
       "\n",
       "        update: function() {\n",
       "          this.$el.css({width: '100%', marginBottom: '0.5em'});\n",
       "          var progress = 100 * this.model.get('progress');\n",
       "          var text = this.model.get('text');\n",
       "          this.$el.find('div.pb-bar').width(progress.toString() + '%');\n",
       "          this.$el.find('div.pb-text').text(text);\n",
       "        },\n",
       "      });\n",
       "\n",
       "      manager.WidgetManager.register_widget_view(\n",
       "        'NengoProgressBar', NengoProgressBar);\n",
       "    });"
      ],
      "text/plain": [
       "<IPython.core.display.Javascript object>"
      ]
     },
     "metadata": {},
     "output_type": "display_data"
    }
   ],
   "source": [
    "%matplotlib inline\n",
    "%load_ext nengo.ipynb"
   ]
  },
  {
   "cell_type": "code",
   "execution_count": 3,
   "metadata": {
    "collapsed": true
   },
   "outputs": [],
   "source": [
    "from sparat.data_processing.generate_association_matrix import load_assoc_mat\n",
    "from sparat.model.model import sanitize"
   ]
  },
  {
   "cell_type": "markdown",
   "metadata": {},
   "source": [
    "#### Load association matrix"
   ]
  },
  {
   "cell_type": "code",
   "execution_count": 4,
   "metadata": {
    "collapsed": false
   },
   "outputs": [],
   "source": [
    "assoc_dir = '../data/associationmatrices/'\n",
    "\n",
    "#assoc_faas, i2w_faas, w2i_faas = load_assoc_mat(assoc_dir, 'freeassoc_undir_symmetric')\n",
    "#np.fill_diagonal(assoc_faas, 0.)\n",
    "\n",
    "assoc_fang, i2w_fng, w2i_fng = load_assoc_mat(assoc_dir, 'freeassoc_google_symmetric')\n",
    "np.fill_diagonal(assoc_fang, 0.)\n",
    "\n",
    "#assert i2w_faas == i2w_fng\n",
    "#assert w2i_faas == w2i_fng\n",
    "i2w = i2w_fng\n",
    "w2i = w2i_fng"
   ]
  },
  {
   "cell_type": "markdown",
   "metadata": {},
   "source": [
    "#### Generate vocabulary"
   ]
  },
  {
   "cell_type": "code",
   "execution_count": 5,
   "metadata": {
    "collapsed": false
   },
   "outputs": [],
   "source": [
    "vocab = spa.Vocabulary(2048)\n",
    "for w in i2w:\n",
    "    vocab.parse(sanitize(w))"
   ]
  },
  {
   "cell_type": "markdown",
   "metadata": {},
   "source": [
    "## Neural model\n",
    "\n",
    "Let $c$ be the vector of the sum of the three cue vectors and $A$ the association matrix used in the filtering (`assoc_fang`). Furthermore, the vector for the current response to make a decision for (suppress or output) is $r$. All of these vectors (and association matrix) are assumed to be in the 5018d sparse word space (as opposed ot the semantic pointer space).\n",
    "\n",
    "Analytically, we want to compute the dot product of $Ac$ and $r$ and use that as utility for outputting the word $r$. Written in matrix multiplication notation we can slightly transform this:\n",
    "\n",
    "$$(Ac)^{\\top}r = c^{\\top}(A^{\\top}r)$$\n",
    "\n",
    "Thus, instead of determining the associations of $c$, we can determine the backwards associations of $r$ by using the transpose of $A$. *Note, that the $A$ here is symmetric and we can drop the transpose. Therefore, I did not pay attention to using the correct transpose in the code below and adjustments might be necessary for non-symmetric association matrices.*\n",
    "\n",
    "Because we are operating in the sparse word space the vectors consist purely of 1s and 0s; also, the specific association matrix is binary. Thus, the dot product between $c$ and $A^{\\top}r$ is essentially and element-wise and operation. Instead of using product networks, this can be better implemented using thresholding ensembles where we said the threshold so that an ensemble will only be active iff it is getting input because of $c$ and $A^{\\top}r$.\n",
    "\n",
    "Note that because we operate in the word space and treat each dimension independently we do not run into radius scaling issues. If we would operate in the semantic pointer space we would get a superposition of multiple vectors, but an unknown normlization factor because the number of associations for each word differs.\n",
    "\n",
    "The only remaining question is: How do we get from the semantic pointer space into the word space? First of all, we already got $r$ in the word space as the output of the main models WTA before it gets projected back to the semantic pointer space. (In the model below we use an additional cleanup memory because we don't have access to the WTA from the main model.) On the connection from the WTA (respectively cleanup) to the thresholdinng ensembles we can apply $A^{\\top}$ as a transformation. To get the cue vector into the word space we can use a cleanup memory. Actually, we can use the thresholding ensembles as this cleanup.\n",
    "\n",
    "So overall the filtering would add one 5018d ensemble array of thresholding ensembles and and 1d ensemble for the result to the main model to do the filtering."
   ]
  },
  {
   "cell_type": "code",
   "execution_count": 6,
   "metadata": {
    "collapsed": false
   },
   "outputs": [],
   "source": [
    "# three cues\n",
    "cues = ['PIKE', 'COAT', 'SIGNAL']\n",
    "\n",
    "# proposals is the list of words to filter\n",
    "proposals = [\n",
    "    'MONEY', 'CAR', 'SIREN', 'CUE', 'CLUE', 'BUSY', 'TURN', 'WEIRD', 'WARN', 'SIGN', 'WARNING',\n",
    "    'RED', 'STOPLIGHT', 'BROWN', 'COLD', 'WOOL', 'JACKET', 'SUEDE', 'HEAVY', 'BUTTON', 'SLEEVE',\n",
    "    'CLOTHES', 'SUIT', 'UNIFORM', 'PAINT', 'FURRY', 'ANIMAL', 'HOUSE', 'HORSE', 'HIGHWAY',\n",
    "    'MOUNTAIN', 'TOP', 'PEAK', 'SPIKE', 'FISH', 'REEF', 'DRIVE', 'INTERSTATE', 'MUSEUM', 'DUE',\n",
    "    'HOMEWORK', 'CHICKEN', 'LITTLE', 'DEPLETION', 'NUT', 'CHALK', 'KNOW', 'SPOON', 'UTENSIL',\n",
    "    'FORK', 'SILVERWARE', 'HAT', 'PAINTER', 'BEAT', 'PRICKLY', 'PEAR', 'FRATERNITY', 'CLUB',\n",
    "    'BELONG', 'LOVE', 'FORBIDDEN', 'ILLEGAL', 'WRONG', 'PERSON', 'SMART', 'INTELLIGENT', 'NAIVE',\n",
    "    'ZENITH', 'WAFFLES', 'GREEN', 'LUXURY', 'BILL']\n",
    "\n",
    "# Stimulus function\n",
    "def propose(t):\n",
    "    i = int(t // 0.4)\n",
    "    if i < len(proposals):\n",
    "        return proposals[i]\n",
    "    else:\n",
    "        return '0'"
   ]
  },
  {
   "cell_type": "code",
   "execution_count": 7,
   "metadata": {
    "collapsed": false
   },
   "outputs": [],
   "source": [
    "d = vocab.dimensions\n",
    "\n",
    "with spa.SPA(vocabs=[vocab]) as model:\n",
    "    with nengo.Config(spa.State) as cfg:\n",
    "        cfg[spa.State].radius_method = nengo.utils.optimization.RadiusForUnitVector\n",
    "        model.cues = spa.State(d)\n",
    "        model.proposed = spa.State(d)\n",
    "        \n",
    "    # This will convert the SP for the response to its backwards associations in the word space.\n",
    "    # Essentially, we do a cleanup with input_vectors=vocab.vectors, and use the vector of\n",
    "    # backward associations for the output vectors (instead of projecting back to the SP space).\n",
    "    # Note that output_vectors (input_vectors) is essentially just the transform to\n",
    "    # apply to the output (input). When integrating this with the main model this associative\n",
    "    # memory is not needed. It is possible to take the elem_output of the WTA and apply assoc_fang.T\n",
    "    # as transform instead.\n",
    "    model.am = nengo.networks.AssociativeMemory(vocab.vectors, assoc_fang.T)\n",
    "    \n",
    "    # We use the associative memory here as a convenient way to\n",
    "    #   a) get an array of thresholding ensembles,\n",
    "    #   b) do in input transformation for the cues to implement the cleanup required for these.\n",
    "    # In the end we are only interested in how many ensembles are active. Thus, this AM does not\n",
    "    # output actual vectors but just ones for each active ensemble that will get added up.\n",
    "    # \n",
    "    # The threshold is set to 0.5 because each active input (from cues or response) will be scaled\n",
    "    # to increase the value by ~0.3. Given a single input this is far below the threshold. Given\n",
    "    # input from a cue and response association this adds up to ~0.6 and exceeds the threshold by\n",
    "    # enough to get a response close to 1 (we're using step function like thresholding here)\n",
    "    model.keep_response = nengo.networks.AssociativeMemory(\n",
    "        vocab.vectors, np.ones((len(vocab.vectors), 1)), threshold=0.5)\n",
    "    model.keep_response.add_threshold_to_outputs()\n",
    "    \n",
    "    # Each individual cue in the cue vector will have a scaling of 0.58 (see below), we need do\n",
    "    # divide by 2 to get the scaling required by keep_response.\n",
    "    nengo.Connection(model.cues.output, model.keep_response.input, transform=.5)\n",
    "    \n",
    "    # We scale the response vector in the same way as each individual cue\n",
    "    nengo.Connection(model.proposed.output, model.am.input)\n",
    "    nengo.Connection(model.am.output, model.keep_response.elem_input, transform=.5*.58)\n",
    "    \n",
    "    # The result, up to three ensembles can be active and output a one, so we need to increase the\n",
    "    # radius of this ensemble.\n",
    "    model.th = nengo.Ensemble(100, dimensions=1, radius=3)\n",
    "    \n",
    "    # Required transform is done by output_vectors of the associative memory keep_responses\n",
    "    nengo.Connection(model.keep_response.output, model.th)\n",
    "    \n",
    "    model.stimulus = spa.Input()\n",
    "    model.stimulus.cues = '0.58 * ({})'.format('+'.join(cues))\n",
    "    model.stimulus.proposed = propose\n",
    "    \n",
    "    p = nengo.Probe(model.th, synapse=0.03)"
   ]
  },
  {
   "cell_type": "code",
   "execution_count": 8,
   "metadata": {
    "collapsed": false
   },
   "outputs": [
    {
     "name": "stdout",
     "output_type": "stream",
     "text": [
      "No context argument was provided to nengo_ocl.Simulator\n",
      "Calling pyopencl.create_some_context() for you now:\n",
      "No context argument was provided to nengo_ocl.Simulator\n",
      "Calling pyopencl.create_some_context() for you now:\n"
     ]
    },
    {
     "name": "stderr",
     "output_type": "stream",
     "text": [
      "/home/jgosmann/.virtualenvs/bleeding-edge/lib/python2.7/site-packages/nengo_ocl-0.1.1.dev0-py2.7.egg/nengo_ocl/simulator.py:565: RuntimeWarning: Function 'parse_func' could not be converted to OCL due to AttributeError(\"'Call' object has no attribute 'value'\",)\n",
      "  % (fn_name, e.__class__.__name__, e.args), RuntimeWarning)\n"
     ]
    }
   ],
   "source": [
    "import nengo_ocl\n",
    "with nengo_ocl.Simulator(model) as sim:\n",
    "    sim.run(0.4 * len(proposals))"
   ]
  },
  {
   "cell_type": "markdown",
   "metadata": {},
   "source": [
    "Here we plot the value of the thresholding ensemble `th`."
   ]
  },
  {
   "cell_type": "code",
   "execution_count": 9,
   "metadata": {
    "collapsed": false
   },
   "outputs": [
    {
     "data": {
      "image/png": "[encoded data removed]",
      "text/plain": [
       "<matplotlib.figure.Figure at 0x7ff651f14dd0>"
      ]
     },
     "metadata": {},
     "output_type": "display_data"
    }
   ],
   "source": [
    "plt.figure(figsize=(16, 4))\n",
    "plt.plot(sim.trange(), sim.data[p])\n",
    "for i in range(len(proposals)):\n",
    "    plt.axvline(x=0.4 * i)"
   ]
  },
  {
   "cell_type": "markdown",
   "metadata": {},
   "source": [
    "Let us do the actual thresholding. Note that we don't cut off the responses after the solution word was found (as opposed to the analytical filtering)."
   ]
  },
  {
   "cell_type": "code",
   "execution_count": 10,
   "metadata": {
    "collapsed": false
   },
   "outputs": [],
   "source": [
    "utilities = np.max(sim.data[p].reshape((-1, 400))[:, 200:], axis=1)\n",
    "threshold = 1.9\n",
    "selected = [proposals[i] for i in np.where(utilities > threshold)[0]]"
   ]
  },
  {
   "cell_type": "code",
   "execution_count": 11,
   "metadata": {
    "collapsed": false
   },
   "outputs": [
    {
     "data": {
      "text/plain": [
       "['MONEY',\n",
       " 'CAR',\n",
       " 'TURN',\n",
       " 'RED',\n",
       " 'BROWN',\n",
       " 'COLD',\n",
       " 'HEAVY',\n",
       " 'BUTTON',\n",
       " 'CLOTHES',\n",
       " 'UNIFORM',\n",
       " 'ANIMAL',\n",
       " 'HOUSE',\n",
       " 'HORSE',\n",
       " 'HIGHWAY',\n",
       " 'MOUNTAIN',\n",
       " 'TOP',\n",
       " 'PEAK',\n",
       " 'SPIKE',\n",
       " 'FISH',\n",
       " 'DRIVE',\n",
       " 'DUE',\n",
       " 'LITTLE',\n",
       " 'KNOW',\n",
       " 'HAT',\n",
       " 'BEAT',\n",
       " 'FRATERNITY',\n",
       " 'CLUB',\n",
       " 'WRONG',\n",
       " 'SMART',\n",
       " 'GREEN',\n",
       " 'BILL']"
      ]
     },
     "execution_count": 11,
     "metadata": {},
     "output_type": "execute_result"
    }
   ],
   "source": [
    "selected"
   ]
  },
  {
   "cell_type": "code",
   "execution_count": null,
   "metadata": {
    "collapsed": true
   },
   "outputs": [],
   "source": []
  }
 ],
 "metadata": {
  "kernelspec": {
   "display_name": "bleeding edge (Py 2.7)",
   "language": "python",
   "name": "bleeding-edge"
  },
  "language_info": {
   "codemirror_mode": {
    "name": "ipython",
    "version": 2
   },
   "file_extension": ".py",
   "mimetype": "text/x-python",
   "name": "python",
   "nbconvert_exporter": "python",
   "pygments_lexer": "ipython2",
   "version": "2.7.11"
  }
 },
 "nbformat": 4,
 "nbformat_minor": 0
}
