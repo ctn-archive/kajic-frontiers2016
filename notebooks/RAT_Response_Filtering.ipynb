{
 "cells": [
  {
   "cell_type": "markdown",
   "metadata": {},
   "source": [
    "# RAT response analysis and filtering"
   ]
  },
  {
   "cell_type": "markdown",
   "metadata": {},
   "source": [
    "This notebook processes model outputs saved as a timestamp-named directory. The first part of the notebook reads the inputs, prints the statistics on accuracies, solution rates and confidence intervals. The second part filters the responses based different matrices and creates distribution plots which show how well each method matches the human data.\n",
    "\n",
    "To fully run the notebook, it is necessary to posses the human data, which we are not publishing because it is not ours. The first part of the notebook can be run without the data, as human accuracy rates have been published. To run the model with these accuracy rates, appropriate flag has to be set in the code. The second part of the notebook (distribution of responses) requires human data."
   ]
  },
  {
   "cell_type": "code",
   "execution_count": 1,
   "metadata": {
    "collapsed": false
   },
   "outputs": [],
   "source": [
    "%matplotlib inline"
   ]
  },
  {
   "cell_type": "code",
   "execution_count": 2,
   "metadata": {
    "collapsed": false
   },
   "outputs": [
    {
     "ename": "IOError",
     "evalue": "[Errno 2] No such file or directory: '../data/associationmatrices/freeassoc_asymmetric.npy'",
     "output_type": "error",
     "traceback": [
      "\u001b[0;31m---------------------------------------------------------------------------\u001b[0m",
      "\u001b[0;31mIOError\u001b[0m                                   Traceback (most recent call last)",
      "\u001b[0;32m<ipython-input-2-80481109aef7>\u001b[0m in \u001b[0;36m<module>\u001b[0;34m()\u001b[0m\n\u001b[1;32m     16\u001b[0m \u001b[0;32mimport\u001b[0m \u001b[0mseaborn\u001b[0m \u001b[0;32mas\u001b[0m \u001b[0msns\u001b[0m\u001b[0;34m\u001b[0m\u001b[0m\n\u001b[1;32m     17\u001b[0m \u001b[0;34m\u001b[0m\u001b[0m\n\u001b[0;32m---> 18\u001b[0;31m \u001b[0;32mfrom\u001b[0m \u001b[0mhelper\u001b[0m \u001b[0;32mimport\u001b[0m \u001b[0;34m*\u001b[0m\u001b[0;34m\u001b[0m\u001b[0m\n\u001b[0m\u001b[1;32m     19\u001b[0m \u001b[0;32mfrom\u001b[0m \u001b[0msparat\u001b[0m\u001b[0;34m.\u001b[0m\u001b[0mmodel\u001b[0m\u001b[0;34m.\u001b[0m\u001b[0mmodel\u001b[0m \u001b[0;32mimport\u001b[0m \u001b[0msanitize\u001b[0m\u001b[0;34m\u001b[0m\u001b[0m\n\u001b[1;32m     20\u001b[0m \u001b[0;32mfrom\u001b[0m \u001b[0msparat\u001b[0m\u001b[0;34m.\u001b[0m\u001b[0mdata_processing\u001b[0m\u001b[0;34m.\u001b[0m\u001b[0mgenerate_association_matrix\u001b[0m \u001b[0;32mimport\u001b[0m \u001b[0mload_assoc_mat\u001b[0m\u001b[0;34m\u001b[0m\u001b[0m\n",
      "\u001b[0;32m/home/ivana/phd/workspace/front-proba/notebooks/helper.py\u001b[0m in \u001b[0;36m<module>\u001b[0;34m()\u001b[0m\n\u001b[1;32m      7\u001b[0m assoc_dir = os.path.join(os.path.dirname(__file__), os.pardir, 'data',\n\u001b[1;32m      8\u001b[0m     'associationmatrices')\n\u001b[0;32m----> 9\u001b[0;31m \u001b[0massoc\u001b[0m\u001b[0;34m,\u001b[0m \u001b[0mid2word\u001b[0m\u001b[0;34m,\u001b[0m \u001b[0mword2id\u001b[0m \u001b[0;34m=\u001b[0m \u001b[0mload_assoc_mat\u001b[0m\u001b[0;34m(\u001b[0m\u001b[0massoc_dir\u001b[0m\u001b[0;34m,\u001b[0m \u001b[0massoc_name\u001b[0m\u001b[0;34m)\u001b[0m\u001b[0;34m\u001b[0m\u001b[0m\n\u001b[0m\u001b[1;32m     10\u001b[0m \u001b[0;34m\u001b[0m\u001b[0m\n\u001b[1;32m     11\u001b[0m \u001b[0;32mdef\u001b[0m \u001b[0mshow_associates\u001b[0m\u001b[0;34m(\u001b[0m\u001b[0mword\u001b[0m\u001b[0;34m,\u001b[0m \u001b[0massoc\u001b[0m\u001b[0;34m,\u001b[0m \u001b[0mword2id\u001b[0m\u001b[0;34m,\u001b[0m \u001b[0mid2word\u001b[0m\u001b[0;34m,\u001b[0m \u001b[0mth\u001b[0m\u001b[0;34m=\u001b[0m\u001b[0;36m0.\u001b[0m\u001b[0;34m)\u001b[0m\u001b[0;34m:\u001b[0m\u001b[0;34m\u001b[0m\u001b[0m\n",
      "\u001b[0;32m/home/ivana/phd/workspace/sparat/sparat/data_processing/generate_association_matrix.pyc\u001b[0m in \u001b[0;36mload_assoc_mat\u001b[0;34m(path, name)\u001b[0m\n\u001b[1;32m    366\u001b[0m     \u001b[0mmap_file\u001b[0m \u001b[0;34m=\u001b[0m \u001b[0mos\u001b[0m\u001b[0;34m.\u001b[0m\u001b[0mpath\u001b[0m\u001b[0;34m.\u001b[0m\u001b[0mjoin\u001b[0m\u001b[0;34m(\u001b[0m\u001b[0mpath\u001b[0m\u001b[0;34m,\u001b[0m \u001b[0mname\u001b[0m \u001b[0;34m+\u001b[0m \u001b[0;34m'.pkl'\u001b[0m\u001b[0;34m)\u001b[0m\u001b[0;34m\u001b[0m\u001b[0m\n\u001b[1;32m    367\u001b[0m \u001b[0;34m\u001b[0m\u001b[0m\n\u001b[0;32m--> 368\u001b[0;31m     \u001b[0mstrength_mat\u001b[0m \u001b[0;34m=\u001b[0m \u001b[0mnp\u001b[0m\u001b[0;34m.\u001b[0m\u001b[0mload\u001b[0m\u001b[0;34m(\u001b[0m\u001b[0mmat_file\u001b[0m\u001b[0;34m)\u001b[0m\u001b[0;34m\u001b[0m\u001b[0m\n\u001b[0m\u001b[1;32m    369\u001b[0m     \u001b[0;32mwith\u001b[0m \u001b[0mopen\u001b[0m\u001b[0;34m(\u001b[0m\u001b[0mmap_file\u001b[0m\u001b[0;34m,\u001b[0m \u001b[0;34m'rb'\u001b[0m\u001b[0;34m)\u001b[0m \u001b[0;32mas\u001b[0m \u001b[0mf\u001b[0m\u001b[0;34m:\u001b[0m\u001b[0;34m\u001b[0m\u001b[0m\n\u001b[1;32m    370\u001b[0m         \u001b[0mid2word\u001b[0m \u001b[0;34m=\u001b[0m \u001b[0mpickle\u001b[0m\u001b[0;34m.\u001b[0m\u001b[0mload\u001b[0m\u001b[0;34m(\u001b[0m\u001b[0mf\u001b[0m\u001b[0;34m)\u001b[0m\u001b[0;34m\u001b[0m\u001b[0m\n",
      "\u001b[0;32m/home/ivana/.virtualenvs/nengo-dev/local/lib/python2.7/site-packages/numpy/lib/npyio.pyc\u001b[0m in \u001b[0;36mload\u001b[0;34m(file, mmap_mode, allow_pickle, fix_imports, encoding)\u001b[0m\n\u001b[1;32m    360\u001b[0m     \u001b[0mown_fid\u001b[0m \u001b[0;34m=\u001b[0m \u001b[0mFalse\u001b[0m\u001b[0;34m\u001b[0m\u001b[0m\n\u001b[1;32m    361\u001b[0m     \u001b[0;32mif\u001b[0m \u001b[0misinstance\u001b[0m\u001b[0;34m(\u001b[0m\u001b[0mfile\u001b[0m\u001b[0;34m,\u001b[0m \u001b[0mbasestring\u001b[0m\u001b[0;34m)\u001b[0m\u001b[0;34m:\u001b[0m\u001b[0;34m\u001b[0m\u001b[0m\n\u001b[0;32m--> 362\u001b[0;31m         \u001b[0mfid\u001b[0m \u001b[0;34m=\u001b[0m \u001b[0mopen\u001b[0m\u001b[0;34m(\u001b[0m\u001b[0mfile\u001b[0m\u001b[0;34m,\u001b[0m \u001b[0;34m\"rb\"\u001b[0m\u001b[0;34m)\u001b[0m\u001b[0;34m\u001b[0m\u001b[0m\n\u001b[0m\u001b[1;32m    363\u001b[0m         \u001b[0mown_fid\u001b[0m \u001b[0;34m=\u001b[0m \u001b[0mTrue\u001b[0m\u001b[0;34m\u001b[0m\u001b[0m\n\u001b[1;32m    364\u001b[0m     \u001b[0;32melse\u001b[0m\u001b[0;34m:\u001b[0m\u001b[0;34m\u001b[0m\u001b[0m\n",
      "\u001b[0;31mIOError\u001b[0m: [Errno 2] No such file or directory: '../data/associationmatrices/freeassoc_asymmetric.npy'"
     ]
    }
   ],
   "source": [
    "from __future__ import absolute_import, division, print_function\n",
    "\n",
    "from difflib import get_close_matches\n",
    "import os\n",
    "import pickle\n",
    "import re\n",
    "import warnings\n",
    "\n",
    "import pytry\n",
    "import matplotlib.pyplot as plt\n",
    "import nengo\n",
    "from nengo import spa\n",
    "import numpy as np\n",
    "import pandas as pd\n",
    "from scipy.stats import pearsonr\n",
    "import seaborn as sns\n",
    "\n",
    "from helper import *\n",
    "from sparat.model.model import sanitize\n",
    "from sparat.data_processing.generate_association_matrix import load_assoc_mat"
   ]
  },
  {
   "cell_type": "code",
   "execution_count": 3,
   "metadata": {
    "collapsed": false
   },
   "outputs": [],
   "source": [
    "fig_path = '../txt/frontiers-paper/figures/'"
   ]
  },
  {
   "cell_type": "code",
   "execution_count": 4,
   "metadata": {
    "collapsed": false
   },
   "outputs": [],
   "source": [
    "sns.set('paper', 'ticks', 'Set1')"
   ]
  },
  {
   "cell_type": "markdown",
   "metadata": {},
   "source": [
    "# Load necessary data"
   ]
  },
  {
   "cell_type": "markdown",
   "metadata": {},
   "source": [
    "### RAT problems"
   ]
  },
  {
   "cell_type": "code",
   "execution_count": 5,
   "metadata": {
    "collapsed": true
   },
   "outputs": [],
   "source": [
    "problems_dir = os.path.join(os.curdir, os.pardir, 'data', 'rat', '25_problems_smith.csv')\n",
    "prob = pd.read_csv(problems_dir, header=None, delimiter=' ', index_col=0, names=[u'cue1', u'cue2', u'cue3', u'solution'])\n",
    "\n",
    "cues = zip(prob.cue1.values, prob.cue2.values, prob.cue3.values)\n",
    "solutions = prob.solution.values"
   ]
  },
  {
   "cell_type": "code",
   "execution_count": 6,
   "metadata": {
    "collapsed": false
   },
   "outputs": [
    {
     "data": {
      "text/html": [
       "<div>\n",
       "<table border=\"1\" class=\"dataframe\">\n",
       "  <thead>\n",
       "    <tr style=\"text-align: right;\">\n",
       "      <th></th>\n",
       "      <th>cue1</th>\n",
       "      <th>cue2</th>\n",
       "      <th>cue3</th>\n",
       "      <th>solution</th>\n",
       "    </tr>\n",
       "  </thead>\n",
       "  <tbody>\n",
       "    <tr>\n",
       "      <th>1</th>\n",
       "      <td>DEMON</td>\n",
       "      <td>LIMIT</td>\n",
       "      <td>WAY</td>\n",
       "      <td>SPEED</td>\n",
       "    </tr>\n",
       "    <tr>\n",
       "      <th>2</th>\n",
       "      <td>WIDOW</td>\n",
       "      <td>BITE</td>\n",
       "      <td>MONKEY</td>\n",
       "      <td>SPIDER</td>\n",
       "    </tr>\n",
       "    <tr>\n",
       "      <th>3</th>\n",
       "      <td>TIME</td>\n",
       "      <td>HAIR</td>\n",
       "      <td>STRETCH</td>\n",
       "      <td>LONG</td>\n",
       "    </tr>\n",
       "    <tr>\n",
       "      <th>4</th>\n",
       "      <td>CHEST</td>\n",
       "      <td>CAR</td>\n",
       "      <td>STORE</td>\n",
       "      <td>TOY</td>\n",
       "    </tr>\n",
       "    <tr>\n",
       "      <th>5</th>\n",
       "      <td>LAND</td>\n",
       "      <td>HAND</td>\n",
       "      <td>HOUSE</td>\n",
       "      <td>FARM</td>\n",
       "    </tr>\n",
       "    <tr>\n",
       "      <th>6</th>\n",
       "      <td>DATE</td>\n",
       "      <td>ALLEY</td>\n",
       "      <td>FOLD</td>\n",
       "      <td>BLIND</td>\n",
       "    </tr>\n",
       "    <tr>\n",
       "      <th>7</th>\n",
       "      <td>BUMP</td>\n",
       "      <td>EGG</td>\n",
       "      <td>STEP</td>\n",
       "      <td>GOOSE</td>\n",
       "    </tr>\n",
       "    <tr>\n",
       "      <th>8</th>\n",
       "      <td>HIGH</td>\n",
       "      <td>BOOK</td>\n",
       "      <td>SOUR</td>\n",
       "      <td>NOTE</td>\n",
       "    </tr>\n",
       "    <tr>\n",
       "      <th>9</th>\n",
       "      <td>BROKEN</td>\n",
       "      <td>CLEAR</td>\n",
       "      <td>EYE</td>\n",
       "      <td>GLASS</td>\n",
       "    </tr>\n",
       "    <tr>\n",
       "      <th>10</th>\n",
       "      <td>COIN</td>\n",
       "      <td>QUICK</td>\n",
       "      <td>SPOON</td>\n",
       "      <td>SILVER</td>\n",
       "    </tr>\n",
       "    <tr>\n",
       "      <th>11</th>\n",
       "      <td>STRIKE</td>\n",
       "      <td>SAME</td>\n",
       "      <td>TENNIS</td>\n",
       "      <td>MATCH</td>\n",
       "    </tr>\n",
       "    <tr>\n",
       "      <th>12</th>\n",
       "      <td>PINE</td>\n",
       "      <td>CRAB</td>\n",
       "      <td>SAUCE</td>\n",
       "      <td>APPLE</td>\n",
       "    </tr>\n",
       "    <tr>\n",
       "      <th>13</th>\n",
       "      <td>PIKE</td>\n",
       "      <td>COAT</td>\n",
       "      <td>SIGNAL</td>\n",
       "      <td>TURN</td>\n",
       "    </tr>\n",
       "    <tr>\n",
       "      <th>14</th>\n",
       "      <td>SPEAK</td>\n",
       "      <td>MONEY</td>\n",
       "      <td>STREET</td>\n",
       "      <td>EASY</td>\n",
       "    </tr>\n",
       "    <tr>\n",
       "      <th>15</th>\n",
       "      <td>WATER</td>\n",
       "      <td>TOBACCO</td>\n",
       "      <td>STOVE</td>\n",
       "      <td>PIPE</td>\n",
       "    </tr>\n",
       "    <tr>\n",
       "      <th>16</th>\n",
       "      <td>LIFT</td>\n",
       "      <td>CARD</td>\n",
       "      <td>MASK</td>\n",
       "      <td>FACE</td>\n",
       "    </tr>\n",
       "    <tr>\n",
       "      <th>17</th>\n",
       "      <td>MAIL</td>\n",
       "      <td>BOARD</td>\n",
       "      <td>LUNG</td>\n",
       "      <td>BLACK</td>\n",
       "    </tr>\n",
       "    <tr>\n",
       "      <th>18</th>\n",
       "      <td>WAGON</td>\n",
       "      <td>BREAK</td>\n",
       "      <td>RADIO</td>\n",
       "      <td>STATION</td>\n",
       "    </tr>\n",
       "    <tr>\n",
       "      <th>19</th>\n",
       "      <td>CHOCOLATE</td>\n",
       "      <td>FORTUNE</td>\n",
       "      <td>TIN</td>\n",
       "      <td>COOKIE</td>\n",
       "    </tr>\n",
       "    <tr>\n",
       "      <th>20</th>\n",
       "      <td>HOUND</td>\n",
       "      <td>PRESSURE</td>\n",
       "      <td>SHOT</td>\n",
       "      <td>BLOOD</td>\n",
       "    </tr>\n",
       "    <tr>\n",
       "      <th>21</th>\n",
       "      <td>SAFETY</td>\n",
       "      <td>CUSHION</td>\n",
       "      <td>POINT</td>\n",
       "      <td>PIN</td>\n",
       "    </tr>\n",
       "    <tr>\n",
       "      <th>22</th>\n",
       "      <td>DUST</td>\n",
       "      <td>CEREAL</td>\n",
       "      <td>FISH</td>\n",
       "      <td>BOWL</td>\n",
       "    </tr>\n",
       "    <tr>\n",
       "      <th>23</th>\n",
       "      <td>TOOTH</td>\n",
       "      <td>POTATO</td>\n",
       "      <td>HEART</td>\n",
       "      <td>SWEET</td>\n",
       "    </tr>\n",
       "    <tr>\n",
       "      <th>24</th>\n",
       "      <td>PRINT</td>\n",
       "      <td>BERRY</td>\n",
       "      <td>BIRD</td>\n",
       "      <td>BLUE</td>\n",
       "    </tr>\n",
       "    <tr>\n",
       "      <th>25</th>\n",
       "      <td>DUE</td>\n",
       "      <td>LIFE</td>\n",
       "      <td>TENSE</td>\n",
       "      <td>PAST</td>\n",
       "    </tr>\n",
       "  </tbody>\n",
       "</table>\n",
       "</div>"
      ],
      "text/plain": [
       "         cue1      cue2     cue3 solution\n",
       "1       DEMON     LIMIT      WAY    SPEED\n",
       "2       WIDOW      BITE   MONKEY   SPIDER\n",
       "3        TIME      HAIR  STRETCH     LONG\n",
       "4       CHEST       CAR    STORE      TOY\n",
       "5        LAND      HAND    HOUSE     FARM\n",
       "6        DATE     ALLEY     FOLD    BLIND\n",
       "7        BUMP       EGG     STEP    GOOSE\n",
       "8        HIGH      BOOK     SOUR     NOTE\n",
       "9      BROKEN     CLEAR      EYE    GLASS\n",
       "10       COIN     QUICK    SPOON   SILVER\n",
       "11     STRIKE      SAME   TENNIS    MATCH\n",
       "12       PINE      CRAB    SAUCE    APPLE\n",
       "13       PIKE      COAT   SIGNAL     TURN\n",
       "14      SPEAK     MONEY   STREET     EASY\n",
       "15      WATER   TOBACCO    STOVE     PIPE\n",
       "16       LIFT      CARD     MASK     FACE\n",
       "17       MAIL     BOARD     LUNG    BLACK\n",
       "18      WAGON     BREAK    RADIO  STATION\n",
       "19  CHOCOLATE   FORTUNE      TIN   COOKIE\n",
       "20      HOUND  PRESSURE     SHOT    BLOOD\n",
       "21     SAFETY   CUSHION    POINT      PIN\n",
       "22       DUST    CEREAL     FISH     BOWL\n",
       "23      TOOTH    POTATO    HEART    SWEET\n",
       "24      PRINT     BERRY     BIRD     BLUE\n",
       "25        DUE      LIFE    TENSE     PAST"
      ]
     },
     "execution_count": 6,
     "metadata": {},
     "output_type": "execute_result"
    }
   ],
   "source": [
    "prob"
   ]
  },
  {
   "cell_type": "markdown",
   "metadata": {},
   "source": [
    "### Association matrices"
   ]
  },
  {
   "cell_type": "code",
   "execution_count": 7,
   "metadata": {
    "collapsed": false
   },
   "outputs": [],
   "source": [
    "mat_labs = []\n",
    "assoc_mat, sim_mat = {}, {}\n",
    "\n",
    "for mat_l in ['freeassoc_symmetric', 'google_symmetric']:\n",
    "    mat, i2w, w2i = load_assoc_mat(assoc_dir, mat_l)\n",
    "    np.fill_diagonal(mat, 0.)\n",
    "\n",
    "    # regular matrix\n",
    "    assoc_mat[mat_l] = mat\n",
    "    sim_mat[mat_l] = np.zeros((len(prob), len(assoc)))\n",
    "    \n",
    "    # binary version\n",
    "    bmat = 'binary_' + mat_l\n",
    "    assoc_mat[bmat] = np.where(mat > 0, 1, 0)\n",
    "    sim_mat[bmat] = np.zeros((len(prob), len(assoc)))\n",
    "    mat_labs.extend([mat_l, bmat])"
   ]
  },
  {
   "cell_type": "markdown",
   "metadata": {},
   "source": [
    "Similarity between the three cues and the target, used to determine a maximal threshold value required for filtering such that all solution words pass the filter."
   ]
  },
  {
   "cell_type": "code",
   "execution_count": 8,
   "metadata": {
    "collapsed": false
   },
   "outputs": [
    {
     "name": "stdout",
     "output_type": "stream",
     "text": [
      "Maximal threshold for freeassoc_symmetric: 0.0065 \n",
      "Maximal threshold for binary_freeassoc_symmetric: 1.0000 \n",
      "Maximal threshold for google_symmetric: 0.0062 \n",
      "Maximal threshold for binary_google_symmetric: 3.0000 \n"
     ]
    }
   ],
   "source": [
    "def get_threshold(matrix, print_debug=False):\n",
    "    similarities = np.zeros(len(prob))\n",
    "    for i, row in prob.iterrows():\n",
    "        c1, c2, c3, s = row.cue1, row.cue2, row.cue3, row.solution\n",
    "        sol_str = matrix[w2i[s], [w2i[c1],w2i[c2],w2i[c3]]]        \n",
    "        similarities[i-1] = sol_str.sum()\n",
    "    return similarities\n",
    "    \n",
    "for mat_l in mat_labs:\n",
    "    print('Maximal threshold for {0}: {1:.4f} '.format(mat_l, get_threshold(assoc_mat[mat_l]).min()))"
   ]
  },
  {
   "cell_type": "markdown",
   "metadata": {},
   "source": [
    "Number of pairs which exist in free associations, but don't exist in n-gram data, and the other way around:"
   ]
  },
  {
   "cell_type": "code",
   "execution_count": 9,
   "metadata": {
    "collapsed": false
   },
   "outputs": [],
   "source": [
    "if 0:  # commented as it can take some time on slower machines\n",
    "    idx_norms = np.where(assoc_mat['freeassoc_symmetric'].flatten() > 0)[0]\n",
    "    idx_ngrams = np.where(assoc_mat['google_symmetric'].flatten() > 0)[0]\n",
    "\n",
    "    print('Number of associations in FAN and not in n-gram:', len(set(idx_norms)-set(idx_ngrams)))\n",
    "    print('Number of associations in Ngram and not in FAN:', len(set(idx_ngrams)- set(idx_norms)))"
   ]
  },
  {
   "cell_type": "markdown",
   "metadata": {},
   "source": [
    "## Response filtering functions "
   ]
  },
  {
   "cell_type": "markdown",
   "metadata": {},
   "source": [
    "Use different association measures to filter responses from simulations. A good matrix should:\n",
    "\n",
    "a) keep correct responses if they were produced in the simulation\n",
    "\n",
    "b) match the human statistic on response lengths\n",
    "\n",
    "c) approximately replicate exponential distribution of response lengths"
   ]
  },
  {
   "cell_type": "markdown",
   "metadata": {},
   "source": [
    "Transformation matrix computed based on an association matrix, used to derive association-based vector representations:"
   ]
  },
  {
   "cell_type": "markdown",
   "metadata": {},
   "source": [
    "To filter words which qualify as valid responses to the problem, we establish a selection criterion for the search process. That is, a word will be regarded as a response only if the distance between that word and the cue words is below a certain value."
   ]
  },
  {
   "cell_type": "code",
   "execution_count": 10,
   "metadata": {
    "collapsed": false
   },
   "outputs": [],
   "source": [
    "for i, (cue, sol) in enumerate(zip(cues, solutions)):\n",
    "    c1, c2, c3 = cue[0], cue[1], cue[2]\n",
    "    c_idx = [w2i[c1], w2i[c2], w2i[c3]]\n",
    "    \n",
    "    for mat_l in mat_labs:\n",
    "        sim_mat[mat_l][i] = assoc_mat[mat_l][c_idx].sum(axis=0)\n",
    "        assert sim_mat[mat_l].sum() > 0"
   ]
  },
  {
   "cell_type": "code",
   "execution_count": 11,
   "metadata": {
    "collapsed": true
   },
   "outputs": [],
   "source": [
    "ms = '_'  # missing data"
   ]
  },
  {
   "cell_type": "markdown",
   "metadata": {},
   "source": [
    "Load raw simulation data and human data:"
   ]
  },
  {
   "cell_type": "code",
   "execution_count": 12,
   "metadata": {
    "collapsed": true
   },
   "outputs": [],
   "source": [
    "def compound_solution(row):\n",
    "    cues = row.cue1, row.cue2, row.cue3\n",
    "    sol = row.solution\n",
    "    new_r = []\n",
    "    replace = False\n",
    "    for r in row.responses:\n",
    "        if r in map(lambda x: x+sol, cues) or r in map(lambda x: sol+x, cues):\n",
    "            new_r.append(sol)\n",
    "            replace = True\n",
    "            break\n",
    "        else:\n",
    "            new_r.append(r)\n",
    "    \n",
    "    return new_r"
   ]
  },
  {
   "cell_type": "code",
   "execution_count": 13,
   "metadata": {
    "collapsed": true
   },
   "outputs": [],
   "source": [
    "def cut_responses_after_th(row, th):\n",
    "    ok_idx = np.array(row.timings[:len(row.responses)]) < th    \n",
    "    row['responses'] = list(np.array(row.responses)[ok_idx])\n",
    "    row['correct'] = row.solution in row.responses\n",
    "    return row"
   ]
  },
  {
   "cell_type": "code",
   "execution_count": 14,
   "metadata": {
    "collapsed": true
   },
   "outputs": [],
   "source": [
    "def filter_row(x, sims, th):        \n",
    "    ok = []\n",
    "    for r in x.responses:\n",
    "        try:\n",
    "            word = w2i[r]\n",
    "        except KeyError:\n",
    "            cand = get_close_matches(r, w2i)\n",
    "            if len(cand) == 0:\n",
    "                word = '_'\n",
    "            else:\n",
    "                word = w2i[cand[0]]\n",
    "                \n",
    "        if word == '_' or sims[x.prob_id-1, word] >= th:\n",
    "            ok.append(r)\n",
    "            \n",
    "        if r == x.solution:\n",
    "            break\n",
    "    chain = ','.join(ok)\n",
    "    return chain"
   ]
  },
  {
   "cell_type": "code",
   "execution_count": 15,
   "metadata": {
    "collapsed": true
   },
   "outputs": [],
   "source": [
    "def accuracy(d, num_el=None):\n",
    "    corr = d.groupby('prob_id').sum()\n",
    "    counts = d['prob_id'].value_counts()\n",
    "    index, vals = counts.index.values, counts.values\n",
    "    denom = vals[np.argsort(index)]\n",
    "    if num_el is not None:\n",
    "        denom = num_el\n",
    "    p = corr.values.reshape(-1)/denom\n",
    "    return 100*p\n",
    "\n",
    "def print_stats(data, label='before'):\n",
    "    lengths = data.responses.apply(lambda x: len(x)).values\n",
    "    nr_cor = len(data.query('correct==True'))\n",
    "\n",
    "    print('Shortest response {0} filter: {1}'.format(label, lengths.min()))\n",
    "    print('Longest response {0}: {1}'.format(label,lengths.max()) )\n",
    "    print('Average response length {0} filtering: {1:.2f}'.format(label, np.mean(lengths)))\n",
    "    print('Correct response rate {0} filtering: {1:.2f}%'.format(label, 100.*nr_cor/len(data)))"
   ]
  },
  {
   "cell_type": "code",
   "execution_count": 16,
   "metadata": {
    "collapsed": false
   },
   "outputs": [],
   "source": [
    "def replace_cues(x, ms='_'):\n",
    "    out = [ms if r in (x.cue1, x.cue2, x.cue3) else r for r in x.responses]\n",
    "    return out        "
   ]
  },
  {
   "cell_type": "code",
   "execution_count": 17,
   "metadata": {
    "collapsed": false
   },
   "outputs": [],
   "source": [
    "def filter_responses(data, sims, th, method, plot=False, apply_filter=True):\n",
    "    df_res = data.copy(deep=True)\n",
    "\n",
    "    if apply_filter:\n",
    "        df_res['responses'] = df_res.apply(lambda x: filter_row(x, sims, th=th), axis=1)\n",
    "        df_res['responses'] = df_res['responses'].apply(lambda x: [i for i in x.split(',')])\n",
    "    \n",
    "        # update solutions as the correct responses might have been removed in filtering    \n",
    "        df_res['correct'] = df_res.apply(lambda x: x.solution in x.responses, axis=1)    \n",
    "        df_res['responses'] = df_res[['cue1', 'cue2', 'cue3', 'responses']].apply(lambda x: replace_cues(x), axis=1)\n",
    "    \n",
    "    lengths = df_res.responses.apply(lambda x: len(x)).values\n",
    "    human_lengths = np.sort(human.responses.apply(lambda x: len(x)).values)\n",
    "\n",
    "    bins = np.arange(0, 51)\n",
    "    if plot:\n",
    "        plt.figure()\n",
    "        n1, bins1, _ = plt.hist(human_lengths, bins=bins, color='r', alpha=0.5, normed=True, label='Human')\n",
    "        n2, bins2, _ = plt.hist(lengths, bins=bins, normed=True, alpha=0.5, label='Model', color='b')\n",
    "        plt.xlabel('Response length')\n",
    "        plt.ylabel('Normalized response length count')\n",
    "        plt.title(method)\n",
    "        plt.legend()      \n",
    "        print(\"Resp length distr: r={:.2f} p={:.3f}\".format(*pearsonr(n1, n2)))\n",
    "        plt.show()            \n",
    "\n",
    "    return df_res"
   ]
  },
  {
   "cell_type": "markdown",
   "metadata": {},
   "source": [
    "## Load simulation data "
   ]
  },
  {
   "cell_type": "code",
   "execution_count": 18,
   "metadata": {
    "collapsed": false
   },
   "outputs": [],
   "source": [
    "fname = 'simulations'   # name of the directory with model outputs\n",
    "data_dir = os.path.join(os.curdir, os.pardir, 'sparat', 'model', 'data')\n",
    "raw_data = pytry.read(path=os.path.join(data_dir, fname))\n",
    "\n",
    "cols_in = ['_prob_id', '_cue1', '_cue2', '_cue3', '_solution', 'correct', 'responses', 'timings']\n",
    "cols_out = ['prob_id', 'cue1', 'cue2', 'cue3', 'solution', 'correct', 'responses', 'timings']\n",
    "\n",
    "sim_data = pd.DataFrame(raw_data, columns=cols_in)\n",
    "sim_data.rename(columns=dict(zip(cols_in, cols_out)), inplace=True)\n",
    "\n",
    "sim_data['responses'] = sim_data.apply(lambda x: compound_solution(x), axis='columns')\n",
    "sim_data = sim_data.apply(lambda x: cut_responses_after_th(x, th=5), axis='columns')\n",
    "\n",
    "model = accuracy(sim_data)"
   ]
  },
  {
   "cell_type": "markdown",
   "metadata": {},
   "source": [
    "## Load human data (if exists)"
   ]
  },
  {
   "cell_type": "markdown",
   "metadata": {},
   "source": [
    "If the pickled file with human responses doesn't exist, just load list of accuracies published in the supplementary material:"
   ]
  },
  {
   "cell_type": "code",
   "execution_count": 19,
   "metadata": {
    "collapsed": false
   },
   "outputs": [
    {
     "name": "stdout",
     "output_type": "stream",
     "text": [
      "Nr human trials vs. nr model trials: 1396 1400\n"
     ]
    }
   ],
   "source": [
    "h_path = os.path.join(os.curdir, os.pardir, 'data', 'responses', 'pandas_human_responses_all.pkl')\n",
    "if os.path.exists(h_path):\n",
    "    human = pd.read_pickle(h_path)\n",
    "    human['responses'] = human['responses'].apply(func=lambda x: [y.upper() for y in x])\n",
    "    human['solution'] = human['solution'].apply(func=lambda x: x.upper())\n",
    "    print('Nr human trials vs. nr model trials:', len(human), len(sim_data))\n",
    "    ground = accuracy(human, num_el=56.)\n",
    "else:\n",
    "    human = np.array([\n",
    "         48.2,  62.5,  32.1,  12.5,  10.7,  58.9,   8.9,  10.7,  48.2,\n",
    "         50. ,  39.3,  30.4,  42.9,  26.8,  23.2,  42.9,  26.8,  58.9,\n",
    "         85.7,  58.9,  75. ,  75. ,  14.3,  71.4,  42.9])\n",
    "    ground = human"
   ]
  },
  {
   "cell_type": "code",
   "execution_count": 20,
   "metadata": {
    "collapsed": false
   },
   "outputs": [
    {
     "name": "stdout",
     "output_type": "stream",
     "text": [
      "Shortest response before filter: 2\n",
      "Longest response before: 46\n",
      "Average response length before filtering: 40.20\n",
      "Correct response rate before filtering: 42.57%\n"
     ]
    }
   ],
   "source": [
    "print_stats(sim_data)"
   ]
  },
  {
   "cell_type": "code",
   "execution_count": 21,
   "metadata": {
    "collapsed": false
   },
   "outputs": [
    {
     "name": "stdout",
     "output_type": "stream",
     "text": [
      "Shortest response before filter: 1\n",
      "Longest response before: 49\n",
      "Average response length before filtering: 7.78\n",
      "Correct response rate before filtering: 42.41%\n"
     ]
    }
   ],
   "source": [
    "if os.path.exists(h_path):\n",
    "    print_stats(human)\n",
    "else:\n",
    "    print('Correct responses {:.2f}%'.format(human.mean()))"
   ]
  },
  {
   "cell_type": "markdown",
   "metadata": {},
   "source": [
    "Number of participants/model runs solving each problem (the hardest and the easiest problem):"
   ]
  },
  {
   "cell_type": "code",
   "execution_count": 22,
   "metadata": {
    "collapsed": false
   },
   "outputs": [
    {
     "name": "stdout",
     "output_type": "stream",
     "text": [
      "Easiest problem solved in: 37.0  runs (humans, n=48)\n",
      "Hardest problem solved in: 2.0  runs (humans, n=5)\n"
     ]
    }
   ],
   "source": [
    "print('Easiest problem solved in:', sim_data.groupby('prob_id').sum().values.max(), ' runs (humans, n=48)')\n",
    "print('Hardest problem solved in:', sim_data.groupby('prob_id').sum().values.min(), ' runs (humans, n=5)')"
   ]
  },
  {
   "cell_type": "markdown",
   "metadata": {},
   "source": [
    "# Part 1: Accuracy stats"
   ]
  },
  {
   "cell_type": "code",
   "execution_count": 23,
   "metadata": {
    "collapsed": false
   },
   "outputs": [
    {
     "name": "stdout",
     "output_type": "stream",
     "text": [
      "Model accuracy: 42.57% (r=0.49, p=0.013) \n"
     ]
    }
   ],
   "source": [
    "print('Model accuracy: {0:.2f}% (r={1:.2f}, p={2:.3f}) '.format(np.mean(model), *pearsonr(model, ground)))"
   ]
  },
  {
   "cell_type": "code",
   "execution_count": 24,
   "metadata": {
    "collapsed": false
   },
   "outputs": [
    {
     "name": "stdout",
     "output_type": "stream",
     "text": [
      "Problems easier for the humans (diff above 30%)\n",
      "      cue1     cue2   cue3 solution\n",
      "21  SAFETY  CUSHION  POINT      PIN [ 37.5]\n",
      "\n",
      "Problems easier for the model (diff above 30%)\n",
      "     cue1    cue2    cue3 solution\n",
      "14  SPEAK   MONEY  STREET     EASY\n",
      "22   DUST  CEREAL    FISH     BOWL [ 37.5         39.28571429]\n"
     ]
    }
   ],
   "source": [
    "th = 30\n",
    "print('Problems easier for the humans (diff above {}%)'.format(th))\n",
    "\n",
    "idx = np.where((ground-model) > th)[0]\n",
    "#print ground[idx], model[idx]\n",
    "print(prob.loc[idx], ground[idx]-model[idx])\n",
    "\n",
    "print('\\nProblems easier for the model (diff above {}%)'.format(th))\n",
    "\n",
    "idx = np.where((model-ground) > th)[0]\n",
    "#print model[idx], ground[idx]\n",
    "print(prob.loc[idx], model[idx]-ground[idx])"
   ]
  },
  {
   "cell_type": "code",
   "execution_count": 25,
   "metadata": {
    "collapsed": false
   },
   "outputs": [
    {
     "data": {
      "image/png": "[encoded data removed]",
      "text/plain": [
       "<matplotlib.figure.Figure at 0x7f5f184fef90>"
      ]
     },
     "metadata": {},
     "output_type": "display_data"
    }
   ],
   "source": [
    "if os.path.exists(h_path):\n",
    "    data_all = pd.concat([human, sim_data], ignore_index=True)\n",
    "    data_all['Source'] = data_all.apply(lambda x: 'Humans' if x.timings is np.nan else 'Model', axis=1)\n",
    "    data_all.rename(columns={'prob_id':'Problem ID'}, inplace=True)\n",
    "\n",
    "    dat = data_all.groupby(['Problem ID', 'Source']).sum().unstack().correct\n",
    "    dat['Humans'] = dat.Humans.apply(lambda x: 100*x/56.)          # divided by the nubmer of participants\n",
    "    dat['Model'] = model\n",
    "\n",
    "    fig, (ax1, ax2) = plt.subplots(ncols=2, figsize=(18 / 2.54, 18 / 2.54 / 1.6 / 2.))\n",
    "    ax = sns.pointplot(x=\"Problem ID\", y=\"correct\", hue=\"Source\", data=data_all,\n",
    "                       ci=95, ax=ax1, scale=0.5,\n",
    "                       estimator=lambda x: 100*np.mean(x))\n",
    "    for line in ax.lines:\n",
    "        xdata = line.get_xdata()\n",
    "        if len(xdata) == 2 and xdata[0] == xdata[1]:\n",
    "            line.set_alpha(0.5)\n",
    "\n",
    "    ax.xaxis.set_ticks([0] + range(4, 25, 5))\n",
    "    ax.xaxis.set_ticklabels([1] + [x for x in range(5, 26, 5)])\n",
    "    ax.set_ylabel('Average accuracy (%)')\n",
    "    ax.set_ylim(0, 100)\n",
    "    lg = ax.legend(loc='upper center', ncol=2, bbox_to_anchor=(0.5, 1.1))\n",
    "\n",
    "    axr = sns.regplot(x=\"Humans\", y=\"Model\", data=dat, ax=ax2, label='RAT problem', ci=95)\n",
    "    axr.set_ylabel('Model accuracy (%)')\n",
    "    axr.set_xlabel('Human accuracy (%)')\n",
    "    axr.set_ylim(0, 100)\n",
    "\n",
    "    sns.despine()\n",
    "    plt.tight_layout()\n",
    "    if 0:\n",
    "        plt.savefig(fig_path + 'accuracies.pdf', bbox_inches='tight', dpi=300)\n",
    "else:\n",
    "    plt.figure(figsize=(12, 3))\n",
    "    plt.subplot(121)\n",
    "    plt.plot(model, label='Model', marker='o')\n",
    "    plt.plot(ground, label='Humans', marker='o')\n",
    "    plt.xlabel('Problem ID')\n",
    "    plt.ylabel('Accuracy (%)')\n",
    "    plt.legend()\n",
    "    plt.subplot(122)\n",
    "    plt.scatter(ground, model)\n",
    "    plt.xlabel('Human accuracy')\n",
    "    plt.ylabel('Model accuracy')"
   ]
  },
  {
   "cell_type": "markdown",
   "metadata": {},
   "source": [
    "Comparing accuracies for matrices with less associations, where in th_x x refers to percentage in (tens) of associations removed from the association matrix:"
   ]
  },
  {
   "cell_type": "code",
   "execution_count": 26,
   "metadata": {
    "collapsed": false
   },
   "outputs": [
    {
     "name": "stdout",
     "output_type": "stream",
     "text": [
      "th_06 43.4\n",
      "th_07 41.8666666667\n",
      "th_08 42.2857142857\n"
     ]
    }
   ],
   "source": [
    "names = ['th_06', 'th_07', 'th_08']\n",
    "\n",
    "for i, name in enumerate(names):\n",
    "    sim = pd.DataFrame(pytry.read(path=os.path.join(data_dir, name)), columns=cols_in)\n",
    "    sim.rename(columns=dict(zip(cols_in, cols_out)), inplace=True)\n",
    "    \n",
    "    sim['responses'] = sim.apply(lambda x: compound_solution(x), axis='columns')\n",
    "    sim = sim.apply(lambda x: cut_responses_after_th(x, th=5), axis='columns')    \n",
    "    print(name, np.mean(accuracy(sim)))"
   ]
  },
  {
   "cell_type": "code",
   "execution_count": 27,
   "metadata": {
    "collapsed": false
   },
   "outputs": [],
   "source": [
    "ci_low = lambda p, n: p - 1.96*np.sqrt((p/n)*(1-p))\n",
    "ci_high = lambda p, n: p + 1.96*np.sqrt((p/n)*(1-p))"
   ]
  },
  {
   "cell_type": "markdown",
   "metadata": {},
   "source": [
    "Number of problems where there was no significant difference in accuracies:"
   ]
  },
  {
   "cell_type": "code",
   "execution_count": 28,
   "metadata": {
    "collapsed": false
   },
   "outputs": [],
   "source": [
    "low, high = ci_low(ground/100., 56), ci_high(ground/100., 56)"
   ]
  },
  {
   "cell_type": "code",
   "execution_count": 29,
   "metadata": {
    "collapsed": false
   },
   "outputs": [],
   "source": [
    "m_low, m_high = ci_low(model/100, 56.), ci_high(model/100, 56.)\n",
    "h_low, h_high = ci_low(ground/100, 56.), ci_high(ground/100., 56)"
   ]
  },
  {
   "cell_type": "code",
   "execution_count": 30,
   "metadata": {
    "collapsed": false
   },
   "outputs": [
    {
     "name": "stdout",
     "output_type": "stream",
     "text": [
      "Overlap in CIs: 18\n"
     ]
    }
   ],
   "source": [
    "within_ci = 0\n",
    "for i in range(len(m_low)):\n",
    "    ml, mh, hl, hh = m_low[i], m_high[i], h_low[i], h_high[i]\n",
    "    if (ml <= hl <= mh and hh >= mh) or (hl <= ml <= hh and mh >= hh):\n",
    "        within_ci += 1\n",
    "print('Overlap in CIs:', within_ci)"
   ]
  },
  {
   "cell_type": "markdown",
   "metadata": {},
   "source": [
    "# Part 2: Response filtering"
   ]
  },
  {
   "cell_type": "markdown",
   "metadata": {},
   "source": [
    "This part requires human data."
   ]
  },
  {
   "cell_type": "markdown",
   "metadata": {},
   "source": [
    "Stats for the raw model output (method doesn't ather as apply_filter is set to False):"
   ]
  },
  {
   "cell_type": "code",
   "execution_count": 31,
   "metadata": {
    "collapsed": false
   },
   "outputs": [
    {
     "name": "stdout",
     "output_type": "stream",
     "text": [
      "Resp length distr: r=-0.30 p=0.032\n"
     ]
    },
    {
     "data": {
      "image/png": "[encoded data removed]",
      "text/plain": [
       "<matplotlib.figure.Figure at 0x7f5efbf30c50>"
      ]
     },
     "metadata": {},
     "output_type": "display_data"
    },
    {
     "name": "stdout",
     "output_type": "stream",
     "text": [
      "Shortest response after filter: 2\n",
      "Longest response after: 46\n",
      "Average response length after filtering: 40.20\n",
      "Correct response rate after filtering: 42.57%\n"
     ]
    }
   ],
   "source": [
    "mat_l = 'binary_google_symmetric' \n",
    "filtered = filter_responses(sim_data, sims=sim_mat[mat_l], th=1, method=mat_l, plot=True, apply_filter=False)\n",
    "print_stats(filtered, 'after')"
   ]
  },
  {
   "cell_type": "code",
   "execution_count": 32,
   "metadata": {
    "collapsed": false
   },
   "outputs": [
    {
     "name": "stdout",
     "output_type": "stream",
     "text": [
      "Resp length distr: r=0.54 p=0.000\n"
     ]
    },
    {
     "data": {
      "image/png": "[encoded data removed]",
      "text/plain": [
       "<matplotlib.figure.Figure at 0x7f5f184fefd0>"
      ]
     },
     "metadata": {},
     "output_type": "display_data"
    },
    {
     "name": "stdout",
     "output_type": "stream",
     "text": [
      "Shortest response after filter: 1\n",
      "Longest response after: 39\n",
      "Average response length after filtering: 16.99\n",
      "Correct response rate after filtering: 42.57%\n",
      "freeassoc_symmetric Throwing away 57.73% responses\n",
      "---\n",
      "Resp length distr: r=0.51 p=0.000\n"
     ]
    },
    {
     "data": {
      "image/png": "[encoded data removed]",
      "text/plain": [
       "<matplotlib.figure.Figure at 0x7f5efbc01ad0>"
      ]
     },
     "metadata": {},
     "output_type": "display_data"
    },
    {
     "name": "stdout",
     "output_type": "stream",
     "text": [
      "Shortest response after filter: 1\n",
      "Longest response after: 40\n",
      "Average response length after filtering: 17.47\n",
      "Correct response rate after filtering: 42.57%\n",
      "binary_freeassoc_symmetric Throwing away 56.53% responses\n",
      "---\n",
      "Resp length distr: r=0.96 p=0.000\n"
     ]
    },
    {
     "data": {
      "image/png": "[encoded data removed]",
      "text/plain": [
       "<matplotlib.figure.Figure at 0x7f5f1812e250>"
      ]
     },
     "metadata": {},
     "output_type": "display_data"
    },
    {
     "name": "stdout",
     "output_type": "stream",
     "text": [
      "Shortest response after filter: 1\n",
      "Longest response after: 27\n",
      "Average response length after filtering: 8.06\n",
      "Correct response rate after filtering: 42.57%\n",
      "google_symmetric Throwing away 79.95% responses\n",
      "---\n",
      "Resp length distr: r=0.93 p=0.000\n"
     ]
    },
    {
     "data": {
      "image/png": "[encoded data removed]",
      "text/plain": [
       "<matplotlib.figure.Figure at 0x7f5ed37faf50>"
      ]
     },
     "metadata": {},
     "output_type": "display_data"
    },
    {
     "name": "stdout",
     "output_type": "stream",
     "text": [
      "Shortest response after filter: 1\n",
      "Longest response after: 33\n",
      "Average response length after filtering: 8.44\n",
      "Correct response rate after filtering: 42.57%\n",
      "binary_google_symmetric Throwing away 79.01% responses\n",
      "---\n"
     ]
    }
   ],
   "source": [
    "filtered_df = {}\n",
    "l1 = np.sum(sim_data.responses.apply(lambda x: len(x)))\n",
    "\n",
    "for mat_l in mat_labs:\n",
    "    th = 3 if 'binary' in mat_l else 0.006\n",
    "    if 'binary_freeassoc' in mat_l:\n",
    "        th = 1\n",
    "    filtered_df[mat_l] = filter_responses(sim_data, sims=sim_mat[mat_l], th=th, method=mat_l, plot=True)\n",
    "    print_stats(filtered_df[mat_l], 'after')\n",
    "    l2 = np.sum(filtered_df[mat_l].responses.apply(lambda x: len(x)))\n",
    "    print('{} Throwing away {:.2f}% responses'.format(mat_l, 100*(1-float(l2)/l1)))\n",
    "    print('---')"
   ]
  },
  {
   "cell_type": "code",
   "execution_count": 33,
   "metadata": {
    "collapsed": false
   },
   "outputs": [
    {
     "name": "stdout",
     "output_type": "stream",
     "text": [
      "Resp length distr: r=0.36 p=0.010\n"
     ]
    },
    {
     "data": {
      "image/png": "[encoded data removed]",
      "text/plain": [
       "<matplotlib.figure.Figure at 0x7f5efaa4f050>"
      ]
     },
     "metadata": {},
     "output_type": "display_data"
    },
    {
     "name": "stdout",
     "output_type": "stream",
     "text": [
      "Shortest response after filter: 1\n",
      "Longest response after: 33\n",
      "Average response length after filtering: 8.44\n",
      "Correct response rate after filtering: 42.57%\n"
     ]
    }
   ],
   "source": [
    "mat_l = 'binary_google_symmetric'\n",
    "filter_responses(sim_data, sims=sim_mat[mat_l], th=2, method=mat_l, plot=True)\n",
    "print_stats(filtered_df[mat_l], 'after')"
   ]
  },
  {
   "cell_type": "code",
   "execution_count": 34,
   "metadata": {
    "collapsed": false
   },
   "outputs": [],
   "source": [
    "f_lengths = lambda x: x.responses.apply(lambda x: len(x))\n",
    "\n",
    "human_lengths = f_lengths(human)\n",
    "model_lengths = [f_lengths(filtered_df[lab]) for lab in mat_labs]"
   ]
  },
  {
   "cell_type": "markdown",
   "metadata": {},
   "source": [
    "### Saving filtered responses for analysis\n",
    "\n",
    "This saves a csv file in the data/simulations directory. 'f' is prepended to the name to indicate filtered simulation responses:"
   ]
  },
  {
   "cell_type": "code",
   "execution_count": 35,
   "metadata": {
    "collapsed": false
   },
   "outputs": [
    {
     "name": "stdout",
     "output_type": "stream",
     "text": [
      "Saved to: ./../data/responses as fbinary_google_symmetric_simulations.csv\n"
     ]
    }
   ],
   "source": [
    "method = 'binary_google_symmetric'\n",
    "final = filtered_df[method].copy(deep=True)\n",
    "for xup in ['cue1', 'cue2', 'cue3', 'solution']:\n",
    "    final[xup] = final.apply(func=lambda x: x[xup].upper(), axis=1)\n",
    "\n",
    "final['responses'] = final['responses'].apply(lambda x: \",\".join(x))\n",
    "\n",
    "# if no responses given, replace responses with the missing symbol\n",
    "l_resp = final.apply(lambda x: len(x.responses), axis=1).values\n",
    "zero_l = np.where(l_resp < 1)[0]\n",
    "final.loc[zero_l, 'responses'] = '_'\n",
    "\n",
    "assert final.responses.apply(lambda x: len(x)).values.min() > 0\n",
    "\n",
    "# save simulation resutls\n",
    "datapath = os.path.join(os.curdir, os.pardir, 'data', 'responses')\n",
    "\n",
    "# indicate that responses have been filtered by prepending 'f'\n",
    "save_name = 'f' + method + '_' + fname + '.csv'\n",
    "if not os.path.exists(datapath):\n",
    "    os.makedirs(datapath)\n",
    "\n",
    "final.to_csv(os.path.join(datapath, save_name), index=False)\n",
    "print('Saved to:', datapath, 'as', save_name)"
   ]
  },
  {
   "cell_type": "code",
   "execution_count": 36,
   "metadata": {
    "collapsed": false
   },
   "outputs": [
    {
     "data": {
      "image/png": "[encoded data removed]",
      "text/plain": [
       "<matplotlib.figure.Figure at 0x7f5ed379fb50>"
      ]
     },
     "metadata": {},
     "output_type": "display_data"
    }
   ],
   "source": [
    "bins = np.arange(1, 51)\n",
    "alpha = 0.5\n",
    "\n",
    "fig, (ax1, ax2) = plt.subplots(2,2, sharey=True, sharex=True, figsize=(18 / 2.54, 18 / 2.54 / 1.6))\n",
    "axes = [ax1, ax2]\n",
    "labs = ['FAN', 'Binary FAN', 'Ngram', 'Binary Ngram']\n",
    "\n",
    "k = 0\n",
    "for i in [0, 1]:\n",
    "    for j in [0, 1]:        \n",
    "        sns.distplot(human_lengths, bins=bins, color='r', label='Human', kde=False, norm_hist=True, \n",
    "                      ax=axes[i][j], axlabel=False, hist_kws={\"alpha\":alpha})\n",
    "        g = sns.distplot(model_lengths[k], bins=bins, color='b', label='Model', kde=False, norm_hist=True, \n",
    "                      ax=axes[i][j], axlabel=False, hist_kws={\"alpha\":alpha})\n",
    "        g.set_title(labs[k])\n",
    "        g.set_xlim(left=1)\n",
    "        if mat_labs[k] == 'binary_freeassoc_symmetric':\n",
    "            axes[i][j].legend()\n",
    "        k+=1\n",
    "\n",
    "fig.text(0.55, 0.04, 'Length of response sequence', ha='center')\n",
    "fig.text(0.04, 0.55, 'Percentage of response sequences', va='center', rotation='vertical')\n",
    "\n",
    "sns.despine()\n",
    "plt.tight_layout(rect=(0.05, 0.05, 1, 1))\n",
    "if 0:\n",
    "    plt.savefig(fig_path + 'filters.pdf', bbox_inches='tight', dpi=300)"
   ]
  },
  {
   "cell_type": "code",
   "execution_count": 37,
   "metadata": {
    "collapsed": false
   },
   "outputs": [
    {
     "data": {
      "image/png": "[encoded data removed]",
      "text/plain": [
       "<matplotlib.figure.Figure at 0x7f5ed369ad50>"
      ]
     },
     "metadata": {},
     "output_type": "display_data"
    }
   ],
   "source": [
    "bins = np.arange(1, 51)\n",
    "\n",
    "fig, (ax1, ax2) = plt.subplots(2,2, sharey=True, sharex=True, figsize=(18 / 2.54, 18 / 2.54 / 1.6))\n",
    "axes = [ax1, ax2]\n",
    "labs = ['FAN', 'Binary FAN', 'Ngram', 'Binary Ngram']\n",
    "\n",
    "k = 0\n",
    "for i in [0, 1]:\n",
    "    for j in [0, 1]:        \n",
    "        sns.kdeplot(human_lengths, label='Human', shade=True, ax=axes[i][j], legend=False)\n",
    "        g = sns.kdeplot(model_lengths[k], label='Model', shade=True, ax=axes[i][j], legend=False)\n",
    "        g.set_title(labs[k])\n",
    "        g.set_xlim(left=1)\n",
    "        if mat_labs[k] == 'binary_freeassoc_symmetric':\n",
    "            axes[i][j].legend()\n",
    "        k+=1\n",
    "\n",
    "fig.text(0.55, 0.04, 'Length of response sequence', ha='center')\n",
    "fig.text(0.04, 0.55, 'Percentage of response sequences', va='center', rotation='vertical')\n",
    "\n",
    "sns.despine()\n",
    "plt.tight_layout(rect=(0.05, 0.05, 1, 1))\n",
    "if 0:\n",
    "    plt.savefig(fig_path + 'filters_kde.pdf', bbox_inches='tight', dpi=300)"
   ]
  }
 ],
 "metadata": {
  "kernelspec": {
   "display_name": "Python 2",
   "language": "python",
   "name": "python2"
  },
  "language_info": {
   "codemirror_mode": {
    "name": "ipython",
    "version": 2
   },
   "file_extension": ".py",
   "mimetype": "text/x-python",
   "name": "python",
   "nbconvert_exporter": "python",
   "pygments_lexer": "ipython2",
   "version": "2.7.9"
  }
 },
 "nbformat": 4,
 "nbformat_minor": 0
}
